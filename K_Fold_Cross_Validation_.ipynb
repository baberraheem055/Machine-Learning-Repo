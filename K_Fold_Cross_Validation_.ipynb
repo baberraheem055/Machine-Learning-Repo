{
  "nbformat": 4,
  "nbformat_minor": 0,
  "metadata": {
    "colab": {
      "provenance": [],
      "authorship_tag": "ABX9TyOh7eFOLlDo+aBT42iysWKD",
      "include_colab_link": true
    },
    "kernelspec": {
      "name": "python3",
      "display_name": "Python 3"
    },
    "language_info": {
      "name": "python"
    }
  },
  "cells": [
    {
      "cell_type": "markdown",
      "metadata": {
        "id": "view-in-github",
        "colab_type": "text"
      },
      "source": [
        "<a href=\"https://colab.research.google.com/github/baberraheem055/Machine-Learning-Repo/blob/main/K_Fold_Cross_Validation_.ipynb\" target=\"_parent\"><img src=\"https://colab.research.google.com/assets/colab-badge.svg\" alt=\"Open In Colab\"/></a>"
      ]
    },
    {
      "cell_type": "code",
      "execution_count": 3,
      "metadata": {
        "id": "5WXp2SgBpQo1",
        "colab": {
          "base_uri": "https://localhost:8080/"
        },
        "outputId": "1a32fb31-0899-45a8-91af-cdd5f9c7f8b5"
      },
      "outputs": [
        {
          "output_type": "stream",
          "name": "stdout",
          "text": [
            "   sepal_length  sepal_width  petal_length  petal_width species\n",
            "0           5.1          3.5           1.4          0.2  setosa\n",
            "1           4.9          3.0           1.4          0.2  setosa\n",
            "2           4.7          3.2           1.3          0.2  setosa\n",
            "3           4.6          3.1           1.5          0.2  setosa\n",
            "4           5.0          3.6           1.4          0.2  setosa\n"
          ]
        },
        {
          "output_type": "stream",
          "name": "stderr",
          "text": [
            "<ipython-input-3-0cfcf293dc1a>:28: SettingWithCopyWarning: \n",
            "A value is trying to be set on a copy of a slice from a DataFrame.\n",
            "Try using .loc[row_indexer,col_indexer] = value instead\n",
            "\n",
            "See the caveats in the documentation: https://pandas.pydata.org/pandas-docs/stable/user_guide/indexing.html#returning-a-view-versus-a-copy\n",
            "  filter_data['species'] = filter_data['species'].map(species_mapping)\n"
          ]
        }
      ],
      "source": [
        "#summary\n",
        "\n",
        "import numpy as np\n",
        "import pandas as pd\n",
        "import seaborn as sns\n",
        "from sklearn.linear_model import LogisticRegression\n",
        "from sklearn.svm import SVC\n",
        "from sklearn.ensemble import RandomForestClassifier\n",
        "from sklearn.model_selection import train_test_split\n",
        "from sklearn.preprocessing import StandardScaler\n",
        "from sklearn.metrics import accuracy_score, classification_report\n",
        "\n",
        "# Load the Iris dataset\n",
        "data = sns.load_dataset('iris')\n",
        "print(data.head())  # Display the first few rows of the dataset\n",
        "\n",
        "# Replace 'setosa' with NaN to remove it for binary classification\n",
        "data['species'] = data['species'].replace('setosa', pd.NA)\n",
        "\n",
        "# Drop the rows with NaN values (i.e., the rows where 'species' is 'setosa')\n",
        "filter_data = data.dropna(subset=['species'])\n",
        "\n",
        "# Map the remaining 'species' to binary labels\n",
        "species_mapping = {\n",
        "    'versicolor': 0,\n",
        "    'virginica': 1\n",
        "}\n",
        "filter_data['species'] = filter_data['species'].map(species_mapping)\n",
        "\n",
        "# Split the data into features (X) and target (y)\n",
        "X = filter_data.drop('species', axis=1)\n",
        "y = filter_data['species']\n",
        "\n",
        "# Split the dataset into training and testing sets\n",
        "X_train, X_test, y_train, y_test = train_test_split(X, y, test_size=0.25, random_state=42)\n",
        "\n",
        "# Standardize the feature variables\n",
        "#note :when training models, \"convergence\" refers to the process by which a model's training process gradually stabilizes and reaches a point where further learning (or optimization) no longer produces significant improvements in performance.\n",
        "\n",
        "scaler = StandardScaler()\n",
        "X_train = scaler.fit_transform(X_train)\n",
        "X_test = scaler.transform(X_test)\n",
        "\n"
      ]
    },
    {
      "cell_type": "code",
      "source": [
        "#Now We Have"
      ],
      "metadata": {
        "id": "uT95JO3IqGQA"
      },
      "execution_count": 4,
      "outputs": []
    },
    {
      "cell_type": "markdown",
      "source": [
        "# Now we have\n",
        "- X_train\n",
        "- X_test\n",
        "- y_train\n",
        "- y_test"
      ],
      "metadata": {
        "id": "fiZ1ZnQ1qQ_A"
      }
    },
    {
      "cell_type": "markdown",
      "source": [],
      "metadata": {
        "id": "wJFNOn4RqPvt"
      }
    },
    {
      "cell_type": "code",
      "source": [
        "\n",
        "# Train the logistic regression model\n",
        "classifier = LogisticRegression(max_iter=200)\n",
        "classifier.fit(X_train, y_train)\n",
        "\n",
        "# Evaluate the model\n",
        "y_pred = classifier.predict(X_test)\n",
        "accuracy = accuracy_score(y_test, y_pred)\n",
        "report = classification_report(y_test, y_pred, target_names=['versicolor', 'virginica'])\n",
        "\n",
        "print(f'Accuracy: {accuracy}')\n",
        "print('Classification Report:')\n",
        "print(report)"
      ],
      "metadata": {
        "id": "ZCm5098SqHqO",
        "colab": {
          "base_uri": "https://localhost:8080/"
        },
        "outputId": "1ac5142a-0d0e-4822-e788-a29b8f79edc3"
      },
      "execution_count": 5,
      "outputs": [
        {
          "output_type": "stream",
          "name": "stdout",
          "text": [
            "Accuracy: 0.88\n",
            "Classification Report:\n",
            "              precision    recall  f1-score   support\n",
            "\n",
            "  versicolor       0.92      0.86      0.89        14\n",
            "   virginica       0.83      0.91      0.87        11\n",
            "\n",
            "    accuracy                           0.88        25\n",
            "   macro avg       0.88      0.88      0.88        25\n",
            "weighted avg       0.88      0.88      0.88        25\n",
            "\n"
          ]
        }
      ]
    },
    {
      "cell_type": "markdown",
      "source": [
        "# lets find the accuracy on other models\n",
        "-"
      ],
      "metadata": {
        "id": "FmYgjP-UJg6d"
      }
    },
    {
      "cell_type": "code",
      "source": [
        "#svm\n",
        "svm = SVC()\n",
        "svm.fit(X_train, y_train)\n",
        "svm.score(X_test, y_test)"
      ],
      "metadata": {
        "colab": {
          "base_uri": "https://localhost:8080/"
        },
        "id": "So6NE_ZzJdzW",
        "outputId": "1ff42cb9-d351-4b67-e4e7-dc9a1e13bc8e"
      },
      "execution_count": 6,
      "outputs": [
        {
          "output_type": "execute_result",
          "data": {
            "text/plain": [
              "0.88"
            ]
          },
          "metadata": {},
          "execution_count": 6
        }
      ]
    },
    {
      "cell_type": "code",
      "source": [
        "#randomforest\n",
        "rf = RandomForestClassifier()\n",
        "rf.fit(X_train, y_train)\n",
        "rf.score(X_test, y_test)"
      ],
      "metadata": {
        "colab": {
          "base_uri": "https://localhost:8080/"
        },
        "id": "t_SqCcwZKWWy",
        "outputId": "990bb67f-1dd5-4cf7-da00-075c3fc77d4d"
      },
      "execution_count": 7,
      "outputs": [
        {
          "output_type": "execute_result",
          "data": {
            "text/plain": [
              "0.84"
            ]
          },
          "metadata": {},
          "execution_count": 7
        }
      ]
    },
    {
      "cell_type": "code",
      "source": [],
      "metadata": {
        "id": "QFBCzc0cLZxo"
      },
      "execution_count": null,
      "outputs": []
    },
    {
      "cell_type": "markdown",
      "source": [
        "# K fold Cross_validation"
      ],
      "metadata": {
        "id": "J0Sybh3NM_RZ"
      }
    },
    {
      "cell_type": "code",
      "source": [
        "from sklearn.model_selection import KFold\n",
        "kf = KFold(n_splits=3)\n",
        "for train_index,test_index in kf.split([1,2,3,4,5,6,7,8,9]):\n",
        "    print(train_index, test_index)"
      ],
      "metadata": {
        "colab": {
          "base_uri": "https://localhost:8080/"
        },
        "id": "MPioRWKvNNrs",
        "outputId": "c945eff7-0832-452e-a6e3-232009c6233b"
      },
      "execution_count": 8,
      "outputs": [
        {
          "output_type": "stream",
          "name": "stdout",
          "text": [
            "[3 4 5 6 7 8] [0 1 2]\n",
            "[0 1 2 6 7 8] [3 4 5]\n",
            "[0 1 2 3 4 5] [6 7 8]\n"
          ]
        }
      ]
    },
    {
      "cell_type": "markdown",
      "source": [
        "# K fold Cross_validation for model selection\n"
      ],
      "metadata": {
        "id": "DA6zIiEKOpp1"
      }
    },
    {
      "cell_type": "code",
      "source": [
        "from sklearn.model_selection import cross_val_score\n",
        "lr_score = cross_val_score(LogisticRegression(max_iter=200),X,y,cv=3)\n",
        "lr_score_mean = lr_score.mean()"
      ],
      "metadata": {
        "id": "fpdnGeDcOSfy"
      },
      "execution_count": 9,
      "outputs": []
    },
    {
      "cell_type": "code",
      "source": [
        "from sklearn.model_selection import cross_val_score\n",
        "rf_score = cross_val_score(RandomForestClassifier(n_estimators= 40),X,y,cv=3)\n",
        "rf_score_mean = rf_score.mean()"
      ],
      "metadata": {
        "id": "ISOoywZHOxlk"
      },
      "execution_count": 10,
      "outputs": []
    },
    {
      "cell_type": "code",
      "source": [
        "from sklearn.model_selection import cross_val_score\n",
        "svm_score = cross_val_score(SVC(),X,y,cv=3)\n",
        "svm_score_mean = svm_score.mean()"
      ],
      "metadata": {
        "id": "1BCVLvnRZm7q"
      },
      "execution_count": 11,
      "outputs": []
    },
    {
      "cell_type": "code",
      "source": [
        "print(\"Mean Accuracy for Logistic Regression:\", lr_score_mean)\n",
        "print(\"Mean Accuracy for SVC:\", svm_score_mean)\n",
        "print(\"Mean Accuracy for Random Forest:\", rf_score_mean)\n",
        "\n",
        "# Compare and choose the best model\n",
        "if (lr_score_mean > svm_score_mean) and (lr_score_mean > rf_score_mean):\n",
        "    print(\"Logistic Regression is the better model.\")\n",
        "elif (svm_score_mean > lr_score_mean) and (svm_score_mean > rf_score_mean):\n",
        "    print(\"SVC is the better model.\")\n",
        "else:\n",
        "    print(\"Random Forest is the better model.\")\n",
        "\n"
      ],
      "metadata": {
        "colab": {
          "base_uri": "https://localhost:8080/"
        },
        "id": "FZvNAHYgZycR",
        "outputId": "72006046-bdab-4a7c-af28-179d8a8cbc04"
      },
      "execution_count": 12,
      "outputs": [
        {
          "output_type": "stream",
          "name": "stdout",
          "text": [
            "Mean Accuracy for Logistic Regression: 0.9497920380273323\n",
            "Mean Accuracy for SVC: 0.929590017825312\n",
            "Mean Accuracy for Random Forest: 0.9497920380273323\n",
            "Random Forest is the better model.\n"
          ]
        }
      ]
    }
  ]
}