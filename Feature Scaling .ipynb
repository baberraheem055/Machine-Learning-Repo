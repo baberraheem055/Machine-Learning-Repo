{
 "cells": [
  {
   "cell_type": "markdown",
   "id": "d2498dd7",
   "metadata": {},
   "source": [
    "\n",
    "## Feature scaling \n",
    "- is a crucial preprocessing step in machine learning that ensures features are on a similar scale, improving the performance and convergence speed of many algorithms. Here are the most common feature scaling techniques:\n",
    "- Min-Max Scaling (Normalization)\n",
    "---Transforms features to a specific range, typically [0, 1] or [-1, 1].\n",
    "- Standardization (Z-score Normalization)\n",
    "---Centers the data around the mean with a standard deviation of 1."
   ]
  },
  {
   "cell_type": "code",
   "execution_count": 7,
   "id": "759016a4",
   "metadata": {},
   "outputs": [
    {
     "data": {
      "text/html": [
       "<div>\n",
       "<style scoped>\n",
       "    .dataframe tbody tr th:only-of-type {\n",
       "        vertical-align: middle;\n",
       "    }\n",
       "\n",
       "    .dataframe tbody tr th {\n",
       "        vertical-align: top;\n",
       "    }\n",
       "\n",
       "    .dataframe thead th {\n",
       "        text-align: right;\n",
       "    }\n",
       "</style>\n",
       "<table border=\"1\" class=\"dataframe\">\n",
       "  <thead>\n",
       "    <tr style=\"text-align: right;\">\n",
       "      <th></th>\n",
       "      <th>price</th>\n",
       "      <th>area</th>\n",
       "      <th>bedrooms</th>\n",
       "    </tr>\n",
       "  </thead>\n",
       "  <tbody>\n",
       "    <tr>\n",
       "      <th>0</th>\n",
       "      <td>13300000</td>\n",
       "      <td>7420</td>\n",
       "      <td>4</td>\n",
       "    </tr>\n",
       "    <tr>\n",
       "      <th>1</th>\n",
       "      <td>12250000</td>\n",
       "      <td>8960</td>\n",
       "      <td>4</td>\n",
       "    </tr>\n",
       "    <tr>\n",
       "      <th>2</th>\n",
       "      <td>12250000</td>\n",
       "      <td>9960</td>\n",
       "      <td>3</td>\n",
       "    </tr>\n",
       "    <tr>\n",
       "      <th>3</th>\n",
       "      <td>12215000</td>\n",
       "      <td>7500</td>\n",
       "      <td>4</td>\n",
       "    </tr>\n",
       "    <tr>\n",
       "      <th>4</th>\n",
       "      <td>11410000</td>\n",
       "      <td>7420</td>\n",
       "      <td>4</td>\n",
       "    </tr>\n",
       "    <tr>\n",
       "      <th>...</th>\n",
       "      <td>...</td>\n",
       "      <td>...</td>\n",
       "      <td>...</td>\n",
       "    </tr>\n",
       "    <tr>\n",
       "      <th>540</th>\n",
       "      <td>1820000</td>\n",
       "      <td>3000</td>\n",
       "      <td>2</td>\n",
       "    </tr>\n",
       "    <tr>\n",
       "      <th>541</th>\n",
       "      <td>1767150</td>\n",
       "      <td>2400</td>\n",
       "      <td>3</td>\n",
       "    </tr>\n",
       "    <tr>\n",
       "      <th>542</th>\n",
       "      <td>1750000</td>\n",
       "      <td>3620</td>\n",
       "      <td>2</td>\n",
       "    </tr>\n",
       "    <tr>\n",
       "      <th>543</th>\n",
       "      <td>1750000</td>\n",
       "      <td>2910</td>\n",
       "      <td>3</td>\n",
       "    </tr>\n",
       "    <tr>\n",
       "      <th>544</th>\n",
       "      <td>1750000</td>\n",
       "      <td>3850</td>\n",
       "      <td>3</td>\n",
       "    </tr>\n",
       "  </tbody>\n",
       "</table>\n",
       "<p>545 rows × 3 columns</p>\n",
       "</div>"
      ],
      "text/plain": [
       "        price  area  bedrooms\n",
       "0    13300000  7420         4\n",
       "1    12250000  8960         4\n",
       "2    12250000  9960         3\n",
       "3    12215000  7500         4\n",
       "4    11410000  7420         4\n",
       "..        ...   ...       ...\n",
       "540   1820000  3000         2\n",
       "541   1767150  2400         3\n",
       "542   1750000  3620         2\n",
       "543   1750000  2910         3\n",
       "544   1750000  3850         3\n",
       "\n",
       "[545 rows x 3 columns]"
      ]
     },
     "execution_count": 7,
     "metadata": {},
     "output_type": "execute_result"
    }
   ],
   "source": [
    "#Min-Max Scaling (Normalization)\n",
    "#to load dataset \n",
    "\n",
    "import pandas as pd\n",
    "df = pd.read_csv(\"Housing.csv\")\n",
    "df.iloc[:,[0,1,2]]\n"
   ]
  },
  {
   "cell_type": "code",
   "execution_count": 10,
   "id": "67c52910",
   "metadata": {},
   "outputs": [
    {
     "data": {
      "text/plain": [
       "array([[0.39656357, 0.6       ],\n",
       "       [0.5024055 , 0.6       ],\n",
       "       [0.57113402, 0.4       ],\n",
       "       ...,\n",
       "       [0.13539519, 0.2       ],\n",
       "       [0.08659794, 0.4       ],\n",
       "       [0.15120275, 0.4       ]])"
      ]
     },
     "execution_count": 10,
     "metadata": {},
     "output_type": "execute_result"
    }
   ],
   "source": [
    "#Min-Max Scaling (Normalization)\n",
    "from sklearn.preprocessing import MinMaxScaler \n",
    "scaling = MinMaxScaler()\n",
    "scaling.fit_transform(df[[\"area\",\"bedrooms\"]])"
   ]
  },
  {
   "cell_type": "code",
   "execution_count": 12,
   "id": "aeaa7608",
   "metadata": {},
   "outputs": [
    {
     "data": {
      "text/plain": [
       "array([[ 1.04672629,  1.40341936],\n",
       "       [ 1.75700953,  1.40341936],\n",
       "       [ 2.21823241,  0.04727831],\n",
       "       ...,\n",
       "       [-0.70592066, -1.30886273],\n",
       "       [-1.03338891,  0.04727831],\n",
       "       [-0.5998394 ,  0.04727831]])"
      ]
     },
     "execution_count": 12,
     "metadata": {},
     "output_type": "execute_result"
    }
   ],
   "source": [
    "#Standardization (Z-score Normalization) \n",
    "from sklearn.preprocessing import StandardScaler\n",
    "scaling = StandardScaler()\n",
    "scaling.fit_transform(df[[\"area\",\"bedrooms\"]])"
   ]
  },
  {
   "cell_type": "code",
   "execution_count": null,
   "id": "72b36429",
   "metadata": {},
   "outputs": [],
   "source": []
  }
 ],
 "metadata": {
  "kernelspec": {
   "display_name": "Python 3 (ipykernel)",
   "language": "python",
   "name": "python3"
  },
  "language_info": {
   "codemirror_mode": {
    "name": "ipython",
    "version": 3
   },
   "file_extension": ".py",
   "mimetype": "text/x-python",
   "name": "python",
   "nbconvert_exporter": "python",
   "pygments_lexer": "ipython3",
   "version": "3.11.9"
  }
 },
 "nbformat": 4,
 "nbformat_minor": 5
}
